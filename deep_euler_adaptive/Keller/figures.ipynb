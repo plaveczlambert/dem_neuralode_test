{
 "cells": [
  {
   "cell_type": "markdown",
   "id": "meaningful-interpretation",
   "metadata": {},
   "source": [
    "# Simulation and plotting"
   ]
  },
  {
   "cell_type": "code",
   "execution_count": null,
   "id": "popular-asset",
   "metadata": {},
   "outputs": [],
   "source": [
    "%matplotlib notebook\n",
    "import math\n",
    "from datetime import datetime\n",
    "import numpy as np\n",
    "import matplotlib.pyplot as plt\n",
    "import scipy.integrate\n",
    "import h5py\n",
    "import pickle\n",
    "import torch\n",
    "import torch.jit\n",
    "from model.DEM import DeepEuler, AdaptiveDeepEuler\n",
    "from model.Euler import Euler\n",
    "from utils.scalers import StandardScaler\n",
    "\n",
    "torch.set_default_dtype(torch.float64)\n",
    "plt.rcParams.update({\n",
    "    \"text.usetex\": True,\n",
    "    \"font.family\": \"sans-serif\",\n",
    "    \"font.sans-serif\": [\"Helvetica\"],\n",
    "    \"font.size\": 15.0})"
   ]
  },
  {
   "cell_type": "code",
   "execution_count": null,
   "id": "common-double",
   "metadata": {},
   "outputs": [],
   "source": [
    "ro_L = 9.970639504998557e+02\n",
    "P_inf = 1.0e+5\n",
    "p_v = 3.166775638952003e+03\n",
    "sigma = 0.071977583160056\n",
    "R_E = 10.0/1.0e6\n",
    "gam = 1.4\n",
    "c_L = 1.497251785455527e+03\n",
    "mu_L = 8.902125058209557e-04\n",
    "theta = 0.0\n",
    "P_A1 = 1e5\n",
    "P_A2 = 0.0\n",
    "f = 20e3 #20 kHz\n",
    "f2 = 0.0\n",
    "\n",
    "class Keller():\n",
    "    '''The ODE function of the Keller-Miksis equation'''\n",
    "    \n",
    "    def __init__(self):\n",
    "        super().__init__()\n",
    "        \n",
    "        C = np.zeros(13)\n",
    "        twr = 1.0/(R_E*f)\n",
    "        C[0] = (P_inf - p_v + 2*sigma/R_E)/ro_L*twr*twr\n",
    "        C[1] = (1-3*gam)/(ro_L*c_L)*(P_inf - p_v + 2*sigma/R_E)*twr\n",
    "        C[2] = (P_inf - p_v)/ro_L * twr*twr\n",
    "        C[3] = 2*sigma/(ro_L*R_E) *twr*twr\n",
    "        C[4] = 4*mu_L/(ro_L*R_E*R_E) / f\n",
    "        C[5] = P_A1/ro_L * twr*twr\n",
    "        C[6] = P_A2/ro_L *twr*twr\n",
    "        C[7] = R_E * 2*math.pi*f * P_A1/(ro_L*c_L) * twr*twr\n",
    "        C[8] = R_E * 2*math.pi*f * P_A2/(ro_L*c_L) * twr*twr\n",
    "        C[9] = R_E*f / c_L\n",
    "        C[10] = 3*gam\n",
    "        C[11] = f2 / f\n",
    "        C[12] = theta\n",
    "        self.C = C\n",
    "    \n",
    "    def ode(self, t, x):\n",
    "        '''ODE function'''\n",
    "        C = self.C\n",
    "        dxdt = np.ones(x.shape)\n",
    "        rx0 = 1.0 / x[0];\n",
    "        \n",
    "        N = (C[0]+C[1]*x[1])*pow(rx0,C[10]) - C[2]*(1.0+C[9]*x[1]) -C[3]*rx0 -C[4]*x[1]*rx0 -\\\n",
    "        (1.5 - 0.5*C[9]*x[1])*x[1]*x[1] -\\\n",
    "        (C[5]*np.sin(2.0*math.pi*t) + C[6]*np.sin(2.0*math.pi*C[11]*t + C[12])) * (1.0+C[9]*x[1])-\\\n",
    "        x[0] * (C[7]*np.cos(2.0*math.pi*t) + C[8]*np.cos(2.0*math.pi*C[11]*t+C[12]) );\n",
    "        \n",
    "        D = x[0] - C[9]*x[0]*x[1] + C[4]*C[9];\n",
    "                \n",
    "        dxdt[0] = x[1]\n",
    "        dxdt[1] = N / D\n",
    "        return dxdt"
   ]
  },
  {
   "cell_type": "markdown",
   "id": "short-breathing",
   "metadata": {},
   "source": [
    "## Integrate the ODE"
   ]
  },
  {
   "cell_type": "code",
   "execution_count": null,
   "id": "military-islam",
   "metadata": {},
   "outputs": [],
   "source": [
    "keller = Keller()\n",
    "sol = scipy.integrate.solve_ivp(keller.ode, [0, 5], [ 1.0, 0.0], rtol=1e-10, atol=1e-10)"
   ]
  },
  {
   "cell_type": "code",
   "execution_count": null,
   "id": "romance-greece",
   "metadata": {},
   "outputs": [],
   "source": [
    "sol2 = scipy.integrate.solve_ivp(keller.ode, [0, 1], [ 2.0, 200.0], rtol=1e-10, atol=1e-10)"
   ]
  },
  {
   "cell_type": "code",
   "execution_count": null,
   "id": "guilty-safety",
   "metadata": {},
   "outputs": [],
   "source": [
    "eul_sol = scipy.integrate.solve_ivp(keller.ode, [0, 3], [ 1.0, 0.0], method=Euler, h=1e-4)"
   ]
  },
  {
   "cell_type": "markdown",
   "id": "japanese-income",
   "metadata": {},
   "source": [
    "Change the *traced_model_path* and *scaler_path* to point to your trained model and its scaler"
   ]
  },
  {
   "cell_type": "code",
   "execution_count": null,
   "id": "split-country",
   "metadata": {},
   "outputs": [],
   "source": [
    "begin = datetime.now()\n",
    "with open(\"training/out_scaler_keller_f_2211020939.psca.pickle\", \"rb\") as file:\n",
    "    out_scaler = pickle.load(file)\n",
    "with open(\"training/scaler_keller_f_2211020939.psca\",'r') as file:\n",
    "    in_scaler = StandardScaler(file)\n",
    "    \n",
    "model = torch.jit.load(\"training/traced_model_keller_f_e198_2211020939.pt\")\n",
    "model.eval()\n",
    "\n",
    "dem_sol = scipy.integrate.solve_ivp(keller.ode, [0, 3], [ 1.0, 0.0], method=DeepEuler, h=1e-5, \n",
    "                                    out_scaler=out_scaler, in_scaler = in_scaler, traced_model=model)\n",
    "end = datetime.now()\n",
    "print(end-begin)"
   ]
  },
  {
   "cell_type": "code",
   "execution_count": null,
   "id": "variable-appointment",
   "metadata": {},
   "outputs": [],
   "source": [
    "begin = datetime.now()\n",
    "ad_dem_sol = scipy.integrate.solve_ivp(keller.ode, [0, 5], [ 1.0, 0], method=AdaptiveDeepEuler, \n",
    "                                    first_step=0.1, rtol=1e-5, atol=1e-5,\n",
    "                                    traced_model_path=\"training/traced_model_keller_ok_e1519_2210121923.pt\", \n",
    "                                    scaler_path=\"training/scaler_keller_ok_2210121923.psca\")\n",
    "end = datetime.now()\n",
    "print(end-begin)"
   ]
  },
  {
   "cell_type": "markdown",
   "id": "collect-desire",
   "metadata": {},
   "source": [
    "## Plots\n",
    "\n",
    "### Accurate phase space (with DOPRI)"
   ]
  },
  {
   "cell_type": "code",
   "execution_count": null,
   "id": "concerned-chemical",
   "metadata": {
    "scrolled": true
   },
   "outputs": [],
   "source": [
    "fig = plt.figure(num=\"PhaseSpace\")\n",
    "ax = fig.add_subplot(projection=\"3d\")\n",
    "m = sol.t < 1\n",
    "ax.plot(sol.t[m], sol.y[0,m],sol.y[1,m])\n",
    "m = (sol.t >= 1) * (sol.t < 2)\n",
    "ax.plot(np.mod(sol.t[m],1), sol.y[0,m],sol.y[1,m])\n",
    "m = (sol.t >= 2) * (sol.t < 3)\n",
    "ax.plot(np.mod(sol.t[m],1), sol.y[0,m],sol.y[1,m])\n",
    "m = (sol.t >= 3) * (sol.t < 4)\n",
    "ax.plot(np.mod(sol.t[m],1), sol.y[0,m],sol.y[1,m])\n",
    "m = (sol.t >= 4) * (sol.t < 5)\n",
    "ax.plot(np.mod(sol.t[m],1), sol.y[0,m],sol.y[1,m])\n",
    "#plt.scatter(eul_sol.y[1,:],eul_sol.y[0,:], s=10, label=\"Euler\")\n",
    "#plt.scatter(dem_sol.y[1,:],dem_sol.y[0,:], s=10, label=\"DEM\")\n",
    "ax.set_xlabel(\"$t$\")\n",
    "ax.set_ylabel(\"$x_1$\")\n",
    "ax.set_zlabel(\"$x_2$\")\n",
    "#ax.legend()\n",
    "plt.show()"
   ]
  },
  {
   "cell_type": "code",
   "execution_count": null,
   "id": "exact-bible",
   "metadata": {},
   "outputs": [],
   "source": [
    "ax.azim = 150   # z rotation (default=270)\n",
    "ax.elev = 42    # x rotation (default=0)\n",
    "ax.dist = 5    # define perspective (default=10)\n",
    "fig.canvas.draw()\n",
    "#ax.set_xlim3d(low_x, high_x)\n",
    "#ax.set_ylim3d(low_y, high_y)\n",
    "#ax.set_zlim3d(low_z, high_z)"
   ]
  },
  {
   "cell_type": "code",
   "execution_count": null,
   "id": "chinese-cemetery",
   "metadata": {},
   "outputs": [],
   "source": [
    "plt.savefig(\"PhaseSpace3d.pdf\")\n",
    "import pickle\n",
    "with open(\"PhaseSpace3d.fig.pickle\", \"wb\") as file:\n",
    "    pickle.dump(fig, file)"
   ]
  },
  {
   "cell_type": "markdown",
   "id": "breathing-treasury",
   "metadata": {},
   "source": [
    "### Comparison"
   ]
  },
  {
   "cell_type": "code",
   "execution_count": null,
   "id": "important-police",
   "metadata": {},
   "outputs": [],
   "source": [
    "plt.figure(num=\"Comparison\")\n",
    "plt.plot(sol.t,sol.y[0,:], color=\"black\", label=\"Dopri\")\n",
    "plt.plot(eul_sol.t,eul_sol.y[0,:], color=\"silver\", label=\"Euler 1e-4\")\n",
    "plt.plot(dem_sol.t,dem_sol.y[0,:], color=\"purple\", label=\"DEM 1e-4\", linestyle=\"--\", dashes=(5,5))\n",
    "#plt.plot(ad_dem_sol.t, ad_dem_sol.y[0,:], linestyle=\"--\", dashes=(6,4), color=\"orange\", label=\"ADEM\")\n",
    "plt.xlabel(\"$t$\")\n",
    "plt.ylabel(\"$x_1$\")\n",
    "plt.xlim([0,3])\n",
    "#plt.ylim([0, 3])\n",
    "plt.legend()\n",
    "plt.show()"
   ]
  },
  {
   "cell_type": "code",
   "execution_count": null,
   "id": "entire-exercise",
   "metadata": {},
   "outputs": [],
   "source": [
    "plt.xlim([2, 3])"
   ]
  },
  {
   "cell_type": "code",
   "execution_count": null,
   "id": "annoying-change",
   "metadata": {},
   "outputs": [],
   "source": [
    "plt.savefig(\"Keller_Dopri_Euler_2210121923.pdf\")"
   ]
  }
 ],
 "metadata": {
  "kernelspec": {
   "display_name": "Python 3",
   "language": "python",
   "name": "python3"
  },
  "language_info": {
   "codemirror_mode": {
    "name": "ipython",
    "version": 3
   },
   "file_extension": ".py",
   "mimetype": "text/x-python",
   "name": "python",
   "nbconvert_exporter": "python",
   "pygments_lexer": "ipython3",
   "version": "3.9.1"
  }
 },
 "nbformat": 4,
 "nbformat_minor": 5
}
