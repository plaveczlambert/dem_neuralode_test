{
 "cells": [
  {
   "cell_type": "markdown",
   "id": "meaningful-interpretation",
   "metadata": {},
   "source": [
    "# Van der Pol equation - Simulation and plotting"
   ]
  },
  {
   "cell_type": "code",
   "execution_count": null,
   "id": "popular-asset",
   "metadata": {},
   "outputs": [],
   "source": [
    "%matplotlib notebook\n",
    "import math\n",
    "from datetime import datetime\n",
    "import numpy as np\n",
    "import matplotlib.pyplot as plt\n",
    "import scipy.integrate\n",
    "import h5py\n",
    "\n",
    "import torch\n",
    "import torch.nn as nn\n",
    "import torch.jit\n",
    "from torchdiffeq import odeint as odeint\n",
    "\n",
    "#from model.DEM import DeepEuler, AdaptiveDeepEuler\n",
    "#from model.Euler import Euler\n",
    "plt.rcParams.update({\n",
    "    \"text.usetex\": True,\n",
    "    \"font.family\": \"sans-serif\",\n",
    "    \"font.sans-serif\": [\"Helvetica\"],\n",
    "    \"font.size\": 15.0})"
   ]
  },
  {
   "cell_type": "code",
   "execution_count": null,
   "id": "common-double",
   "metadata": {},
   "outputs": [],
   "source": [
    "mu = 1.5\n",
    "def vdp( t, x):\n",
    "    y = np.empty(x.shape)\n",
    "    y[0] = -mu*(x[1]*x[1]-1)*x[0]-x[1]\n",
    "    y[1] = x[0]\n",
    "    return y"
   ]
  },
  {
   "cell_type": "code",
   "execution_count": null,
   "id": "detailed-bullet",
   "metadata": {},
   "outputs": [],
   "source": [
    "class NeuralODE(nn.Module):\n",
    "    '''The neural ODE'''\n",
    "\n",
    "    def __init__(self, num_in_features, num_out_features):\n",
    "        super(NeuralODE, self).__init__()\n",
    "        self.act    = nn.ELU()\n",
    "        \n",
    "        self.l_in   = nn.Linear(\n",
    "            in_features = num_in_features,\n",
    "            out_features= 50\n",
    "        )\n",
    "        self.l1   = nn.Linear(\n",
    "            in_features = 50,\n",
    "            out_features= 100\n",
    "        )\n",
    "        self.l2   = nn.Linear(\n",
    "            in_features = 100,\n",
    "            out_features= 50\n",
    "        )\n",
    "        self.l_out   = nn.Linear(\n",
    "            in_features = 50,\n",
    "            out_features= num_out_features\n",
    "        )\n",
    "\n",
    "    def forward(self, t, y):\n",
    "        x = self.act(self.l_in(y))\n",
    "        x = self.act(self.l1(x));\n",
    "        x = self.act(self.l2(x));\n",
    "        return self.l_out(x)"
   ]
  },
  {
   "cell_type": "markdown",
   "id": "short-breathing",
   "metadata": {},
   "source": [
    "## Integrate the ODE"
   ]
  },
  {
   "cell_type": "code",
   "execution_count": null,
   "id": "military-islam",
   "metadata": {},
   "outputs": [],
   "source": [
    "sol = scipy.integrate.solve_ivp(vdp, [0, 500], [ 1.0, 1.0], rtol=1e-10, atol=1e-10)"
   ]
  },
  {
   "cell_type": "markdown",
   "id": "considerable-ghost",
   "metadata": {},
   "source": [
    "You need a trained Neural ODE to run the following section. Rewrite the path given to `torch.load` to point to your model. Note that this should be a pytorch model checkpoint (not a traced model)."
   ]
  },
  {
   "cell_type": "code",
   "execution_count": null,
   "id": "answering-yacht",
   "metadata": {},
   "outputs": [],
   "source": [
    "#select device\n",
    "device = torch.device('cuda:' + str(gpu) if torch.cuda.is_available() else 'cpu')\n",
    "\n",
    "#initial condition\n",
    "true_y0 = torch.tensor([[4., 3.]]).to(device)\n",
    "\n",
    "NODE = NeuralODE(2,2)\n",
    "loaded = torch.load(\"training/model_vdp_43_i73203_2210242102.pt\")\n",
    "NODE.load_state_dict(loaded['model_state_dict'])\n",
    "NODE.eval()\n",
    "\n",
    "t = torch.linspace(0,35,100)\n",
    "with torch.no_grad():\n",
    "    node_sol = odeint(NODE, true_y0, t, atol=1e-6, rtol=1e-6).detach().numpy()"
   ]
  },
  {
   "cell_type": "code",
   "execution_count": null,
   "id": "whole-smart",
   "metadata": {
    "scrolled": true
   },
   "outputs": [],
   "source": [
    "fig = plt.figure(num=\"NeuralODE\")\n",
    "ax_traj = fig.add_subplot(111)\n",
    "ax_traj.cla()\n",
    "ax_traj.set_xlabel('$t$')\n",
    "ax_traj.set_ylabel('$x_1$')\n",
    "ax_traj.plot(sol.t, sol.y[0, :], '-', color=\"black\", label=\"DOPRI\")\n",
    "ax_traj.plot(t.cpu().numpy(), node_sol[:, 0, 0], '--', color=\"orange\", label=\"NODE\")\n",
    "ax_traj.set_xlim(0, 35)\n",
    "ax_traj.set_ylim(-4, 4)\n",
    "ax_traj.legend()\n",
    "fig.show()\n",
    "plt.savefig(\"VdP_NeuralODE_11.pdf\")"
   ]
  },
  {
   "cell_type": "code",
   "execution_count": null,
   "id": "controlling-saint",
   "metadata": {},
   "outputs": [],
   "source": [
    "figur = plt.figure(num=\"Streamslice\")\n",
    "ax_vecfield = figur.add_subplot(111)\n",
    "ax_vecfield.cla()\n",
    "ax_vecfield.set_xlabel('$x_2$')\n",
    "ax_vecfield.set_ylabel('$x_1$')\n",
    "\n",
    "resolution = 41\n",
    "x,y = np.mgrid[-5:5:resolution*1j, -5:5:resolution*1j]\n",
    "dydt = NODE(0, torch.Tensor(np.stack([x, y], -1).reshape(resolution * resolution, 2)).to(device)).cpu().detach().numpy()\n",
    "mag = np.sqrt(dydt[:, 0]**2 + dydt[:, 1]**2).reshape(-1, 1)\n",
    "dydt = (dydt / mag)\n",
    "dydt = dydt.reshape(resolution, resolution, 2)\n",
    "\n",
    "ax_vecfield.streamplot(y, x, dydt[:, :, 1], dydt[:, :, 0], color=\"black\", linewidth=1)\n",
    "ax_vecfield.set_xlim(-5, 5)\n",
    "ax_vecfield.set_ylim(-5, 5)\n",
    "\n",
    "fig.tight_layout()\n",
    "fig.canvas.draw()\n",
    "plt.savefig(\"VdP_NODE_streamslice.pdf\")"
   ]
  },
  {
   "cell_type": "markdown",
   "id": "collect-desire",
   "metadata": {},
   "source": [
    "## Plots"
   ]
  },
  {
   "cell_type": "code",
   "execution_count": null,
   "id": "important-police",
   "metadata": {},
   "outputs": [],
   "source": [
    "plt.figure(num=\"Comparison\")\n",
    "plt.plot(sol.t,sol.y[0,:], color=\"black\", label=\"Dopri\")\n",
    "#plt.plot(euler[:,0],euler[:,1], color=\"silver\", label=\"Euler\")\n",
    "plt.plot(dem_sol.t,dem_sol.y[0,:], color=\"purple\", label=\"DEM\")\n",
    "#plt.plot(dem[:,0],dem[:,1], linestyle=\"--\", dashes=(5,5), color=\"cyan\", label=\"DEM C++\")\n",
    "plt.plot(ad_dem_sol.t,ad_dem_sol.y[0,:], linestyle=\"--\", dashes=(5,5), color=\"orange\", label=\"ADEM\")\n",
    "plt.xlabel(\"$t$\")\n",
    "plt.ylabel(\"$x_1$\")\n",
    "plt.xlim([480, 500])\n",
    "plt.ylim([-4,4])\n",
    "plt.legend()\n",
    "plt.show()"
   ]
  },
  {
   "cell_type": "code",
   "execution_count": null,
   "id": "controlling-fusion",
   "metadata": {
    "scrolled": true
   },
   "outputs": [],
   "source": [
    "sol = scipy.integrate.solve_ivp(vdp, [0, 27.5], [ 1.0, 1.0], rtol=1e-10, atol=1e-10)\n",
    "t = torch.linspace(0,27.5,2)\n",
    "num_points = 200\n",
    "min_exponent = -7\n",
    "max_exponent = -2\n",
    "node_errors = np.zeros(num_points)\n",
    "node_tols = np.logspace( min_exponent, max_exponent, num=num_points, base=10)\n",
    "i = 0;\n",
    "for tol in node_tols:\n",
    "    with torch.no_grad():\n",
    "        pred_y = odeint(NODE, true_y0, t, atol=tol, rtol=tol ).detach().numpy()\n",
    "        #print(pred_y)\n",
    "        node_errors[i] = np.abs(pred_y[-1, 0, 0] - sol.y[0,-1])\n",
    "        i += 1\n",
    "    "
   ]
  },
  {
   "cell_type": "code",
   "execution_count": null,
   "id": "imperial-cheat",
   "metadata": {
    "scrolled": true
   },
   "outputs": [],
   "source": [
    "node_fehlberg_errors = np.zeros(num_points)\n",
    "i = 0;\n",
    "for tol in node_tols:\n",
    "    with torch.no_grad():\n",
    "        pred_y = odeint(NODE, true_y0, t, method=\"fehlberg2\", atol=tol, rtol=tol ).detach().numpy()\n",
    "        node_fehlberg_errors[i] = np.abs(pred_y[-1, 0, 0] - sol.y[0,-1])\n",
    "        i += 1\n",
    "    "
   ]
  },
  {
   "cell_type": "code",
   "execution_count": null,
   "id": "antique-orange",
   "metadata": {
    "scrolled": true
   },
   "outputs": [],
   "source": [
    "node_bosh_errors = np.zeros(num_points)\n",
    "i = 0;\n",
    "for tol in node_tols:\n",
    "    with torch.no_grad():\n",
    "        pred_y = odeint(NODE, true_y0, t, method=\"bosh3\", atol=tol, rtol=tol ).detach().numpy()\n",
    "        node_bosh_errors[i] = np.abs(pred_y[-1, 0, 0] - sol.y[0,-1])\n",
    "        i += 1\n",
    "    "
   ]
  },
  {
   "cell_type": "code",
   "execution_count": null,
   "id": "working-coaching",
   "metadata": {},
   "outputs": [],
   "source": [
    "plt.figure(num=\"ErrorPlot\")\n",
    "plt.plot(node_tols, node_errors, \"-\", color=\"black\", label=\"Dopri\")\n",
    "plt.plot(node_tols, node_fehlberg_errors, \"-\", color=\"orange\", label=\"Fehlberg2\")\n",
    "plt.plot(node_tols, node_bosh_errors, \"-\", color=\"purple\", label=\"Bosh3\")\n",
    "plt.xscale('log')\n",
    "plt.yscale('log')\n",
    "plt.xlabel(\"Tolerance\")\n",
    "plt.ylabel(\"$|x - x_{NODE}|$\")\n",
    "plt.legend()\n",
    "plt.show()\n",
    "plt.savefig(\"vdp_node_error_tol_comparison.pdf\")"
   ]
  }
 ],
 "metadata": {
  "kernelspec": {
   "display_name": "Python 3",
   "language": "python",
   "name": "python3"
  },
  "language_info": {
   "codemirror_mode": {
    "name": "ipython",
    "version": 3
   },
   "file_extension": ".py",
   "mimetype": "text/x-python",
   "name": "python",
   "nbconvert_exporter": "python",
   "pygments_lexer": "ipython3",
   "version": "3.9.1"
  }
 },
 "nbformat": 4,
 "nbformat_minor": 5
}
